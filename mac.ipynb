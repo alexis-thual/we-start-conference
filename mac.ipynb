{
 "cells": [
  {
   "cell_type": "code",
   "execution_count": 84,
   "metadata": {},
   "outputs": [],
   "source": [
    "import datetime\n",
    "import os\n",
    "import re\n",
    "import subprocess\n",
    "import time"
   ]
  },
  {
   "cell_type": "code",
   "execution_count": 76,
   "metadata": {},
   "outputs": [],
   "source": [
    "def listMacAddresses():\n",
    "    process = subprocess.Popen('airport -s', shell=True, stdout=subprocess.PIPE, stderr=subprocess.PIPE)\n",
    "    process.wait()\n",
    "    processOutput = process.stdout.read().decode('utf-8')\n",
    "\n",
    "    lines = list(filter(lambda x: len(x) > 0, processOutput.split('\\n')))\n",
    "    header = lines[0]\n",
    "    reHeader = re.compile('\\s+SSID')\n",
    "    networkNameLength = len(reHeader.search(header).group())\n",
    "    parsedValues = [parseAirportLine(line, networkNameLength) for line in lines]\n",
    "    \n",
    "    return parsedValues"
   ]
  },
  {
   "cell_type": "code",
   "execution_count": 77,
   "metadata": {},
   "outputs": [],
   "source": [
    "def parseAirportLine(line, networkNameLength):\n",
    "    if len(line) == 0:\n",
    "        return\n",
    "\n",
    "    name = re.sub('\\s+', ' ', line[:networkNameLength]).strip()\n",
    "    regex = re.compile('\\s+')\n",
    "    bssid = regex.split(line[networkNameLength:])[1]\n",
    "\n",
    "    return {\n",
    "        'name': name,\n",
    "        'bssid': bssid,\n",
    "    }"
   ]
  },
  {
   "cell_type": "code",
   "execution_count": 80,
   "metadata": {},
   "outputs": [
    {
     "data": {
      "text/plain": [
       "['SSID;BSSID',\n",
       " \"Livebox-rollin's;2c:39:96:49:d3:c6\",\n",
       " 'Bbox-7887CADF;e8:be:81:aa:9f:10',\n",
       " 'FreeWifi_secure;e4:9e:12:ef:a5:a6',\n",
       " 'FreeWifi_secure;f4:ca:e5:dd:79:1a',\n",
       " 'NUMERICABLE-A288;c0:d9:62:31:f7:89',\n",
       " 'FreeWifi;00:24:d4:95:61:d0',\n",
       " 'Freebox-9561CE;00:24:d4:95:61:cf',\n",
       " 'freebox_HUGUTI_2GEXT;b0:b9:8a:4d:bd:c5',\n",
       " 'Bbox-109AD9;00:1f:9f:bd:e3:5d',\n",
       " 'FreeWifi;f4:ca:e5:dd:79:19',\n",
       " 'Chezjul;f4:ca:e5:dd:79:18',\n",
       " 'SFR-2017;44:e9:dd:ed:d8:3e',\n",
       " 'Bbox-10C10234;3c:81:d8:75:65:90',\n",
       " 'FreeWifi_secure;f4:ca:e5:d2:f2:0e',\n",
       " 'Livebox-8EEA;a0:1b:29:a7:8e:ea',\n",
       " 'orange;12:7c:b2:14:54:e3',\n",
       " 'FreeWifi;f4:ca:e5:d2:f2:0d',\n",
       " 'Livebox-54E3;30:7c:b2:14:54:e3',\n",
       " 'FreeWifi_secure;68:a3:78:ad:9e:52',\n",
       " 'Coloc-Soupe;6c:38:a1:5a:dd:78',\n",
       " 'Bbox-C974D670;f8:ab:05:06:45:a0',\n",
       " 'SFR-5b10;a4:08:f5:c9:5b:16',\n",
       " 'Bbox-F92A10;00:1f:9f:bf:09:69',\n",
       " 'Bbox-41AA8A4E-5GHz;64:7c:34:d0:e4:d0',\n",
       " 'SFR-5b10_5GHz;a4:08:f5:c9:5b:17',\n",
       " 'Bbox-C974D670-5GHz;00:26:86:1e:38:5e']"
      ]
     },
     "execution_count": 80,
     "metadata": {},
     "output_type": "execute_result"
    }
   ],
   "source": [
    "addresses = listMacAddresses()\n",
    "list(map(lambda x: ';'.join(x.values()), addresses))"
   ]
  },
  {
   "cell_type": "code",
   "execution_count": 95,
   "metadata": {},
   "outputs": [
    {
     "name": "stdout",
     "output_type": "stream",
     "text": [
      "2018-02-04 16:52:08.603282 - Writting logs...\n",
      "2018-02-04 16:52:27.592375 - Writting logs...\n"
     ]
    },
    {
     "ename": "KeyboardInterrupt",
     "evalue": "",
     "output_type": "error",
     "traceback": [
      "\u001b[0;31m---------------------------------------------------------------------------\u001b[0m",
      "\u001b[0;31mKeyboardInterrupt\u001b[0m                         Traceback (most recent call last)",
      "\u001b[0;32m<ipython-input-95-0b6a3fbc7e9c>\u001b[0m in \u001b[0;36m<module>\u001b[0;34m()\u001b[0m\n\u001b[1;32m     13\u001b[0m         \u001b[0mlogFile\u001b[0m\u001b[0;34m.\u001b[0m\u001b[0mclose\u001b[0m\u001b[0;34m(\u001b[0m\u001b[0;34m)\u001b[0m\u001b[0;34m\u001b[0m\u001b[0m\n\u001b[1;32m     14\u001b[0m \u001b[0;34m\u001b[0m\u001b[0m\n\u001b[0;32m---> 15\u001b[0;31m     \u001b[0mtime\u001b[0m\u001b[0;34m.\u001b[0m\u001b[0msleep\u001b[0m\u001b[0;34m(\u001b[0m\u001b[0;36m15\u001b[0m\u001b[0;34m)\u001b[0m\u001b[0;34m\u001b[0m\u001b[0m\n\u001b[0m",
      "\u001b[0;31mKeyboardInterrupt\u001b[0m: "
     ]
    }
   ],
   "source": [
    "fileName = './logs.txt'\n",
    "readingMode = 'a'\n",
    "if not os.path.exists(fileName):\n",
    "    readingMode = 'w+'\n",
    "\n",
    "while True:\n",
    "    with open(fileName, readingMode) as logFile:\n",
    "        addresses = listMacAddresses()\n",
    "        currentTime = str(datetime.datetime.now())\n",
    "        logs = list(map(lambda x: ';'.join([currentTime] + list(x.values()) + ['\\n']), addresses[1:]))\n",
    "        print('{} - Writting logs...'.format(currentTime))\n",
    "        logFile.write(''.join(logs))\n",
    "        logFile.close()\n",
    "\n",
    "    time.sleep(15)"
   ]
  }
 ],
 "metadata": {
  "kernelspec": {
   "display_name": "Python 3",
   "language": "python",
   "name": "python3"
  },
  "language_info": {
   "codemirror_mode": {
    "name": "ipython",
    "version": 3
   },
   "file_extension": ".py",
   "mimetype": "text/x-python",
   "name": "python",
   "nbconvert_exporter": "python",
   "pygments_lexer": "ipython3",
   "version": "3.6.3"
  }
 },
 "nbformat": 4,
 "nbformat_minor": 2
}
